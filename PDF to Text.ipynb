{
 "cells": [
  {
   "cell_type": "code",
   "execution_count": 4,
   "id": "92b284d3-9194-452a-93c7-c0e55a25c085",
   "metadata": {},
   "outputs": [
    {
     "name": "stderr",
     "output_type": "stream",
     "text": [
      "<>:6: SyntaxWarning: invalid escape sequence '\\D'\n",
      "<>:6: SyntaxWarning: invalid escape sequence '\\D'\n",
      "/var/folders/8k/g_gsfwcx48lbl0hm34wbldch0000gn/T/ipykernel_13741/387967097.py:6: SyntaxWarning: invalid escape sequence '\\D'\n",
      "  filename = filedialog.askopenfilename(title=\"Open PDF\",initialdir='C:\\Downloads',filetypes=[('PDF files','*.pdf')])\n"
     ]
    }
   ],
   "source": [
    "# Last Updated: 14 April 2024, 8.08PM.\n",
    "# Copyright © 2024 Gedeon Koh All rights reserved.\n",
    "# No part of this publication may be reproduced, distributed, or transmitted in any form or by any means, including photocopying, recording, or other electronic or mechanical methods, without the prior written permission of the publisher, except in the case of brief quotations embodied in reviews and certain other non-commercial uses permitted by copyright law.\n",
    "# THE SOFTWARE IS PROVIDED “AS IS”, WITHOUT WARRANTY OF ANY KIND, EXPRESS OR IMPLIED, INCLUDING BUT NOT LIMITED TO THE WARRANTIES OF MERCHANTABILITY, FITNESS FOR A PARTICULAR PURPOSE AND NONINFRINGEMENT. IN NO EVENT SHALL THE AUTHOR OR COPYRIGHT HOLDER BE LIABLE FOR ANY CLAIM, DAMAGES OR OTHER LIABILITY, WHETHER IN AN ACTION OF CONTRACT, TORT OR OTHERWISE, ARISING FROM, OUT OF OR IN CONNECTION WITH THE SOFTWARE OR THE USE OR OTHER DEALINGS IN THE SOFTWARE.\n",
    "# Use of this program for pranks or any malicious activities is strictly prohibited. Any unauthorized use or dissemination of the results produced by this program is unethical and may result in legal consequences.\n",
    "# This code have been tested throughly. Please inform the operator or author if there is any mistake or error in the code.\n",
    "# Any damage, disciplinary actions or death from this material is not the publisher's or owner's fault.\n",
    "# Run and use this program this AT YOUR OWN RISK.\n",
    "# Version 0.1\n",
    "\n",
    "import tkinter, PyPDF2\n",
    "from tkinter import filedialog\n",
    "\n",
    "def openFile():\n",
    "    '''This function opens the directory'''\n",
    "    filename = filedialog.askopenfilename(title=\"Open PDF\",initialdir='C:\\Downloads',filetypes=[('PDF files','*.pdf')])\n",
    "    file_label.configure(text=filename)\n",
    "    output_text.delete(\"1.0\", tkinter.END)\n",
    "    reader = PyPDF2.PdfReader(filename)\n",
    "    for i in range(reader.numPages):\n",
    "        text = reader.getPage(i).extractText()\n",
    "        output_text.insert(tkinter.END, text)\n",
    "\n",
    "root = tkinter.Tk()\n",
    "root.title(\"PDF to Text Converter\")\n",
    "\n",
    "file_label = tkinter.Label(root,text=\"No file selected\")\n",
    "file_label.pack()\n",
    "#ouput text widget\n",
    "output_text = tkinter.Text(root)\n",
    "output_text.pack()\n",
    "#button to select the file\n",
    "open_file_btn = tkinter.Button(root, text=\"Open PDF\", command= openFile)\n",
    "open_file_btn.pack()\n",
    "\n",
    "root.mainloop()"
   ]
  }
 ],
 "metadata": {
  "kernelspec": {
   "display_name": "Python 3 (ipykernel)",
   "language": "python",
   "name": "python3"
  },
  "language_info": {
   "codemirror_mode": {
    "name": "ipython",
    "version": 3
   },
   "file_extension": ".py",
   "mimetype": "text/x-python",
   "name": "python",
   "nbconvert_exporter": "python",
   "pygments_lexer": "ipython3",
   "version": "3.12.2"
  }
 },
 "nbformat": 4,
 "nbformat_minor": 5
}
