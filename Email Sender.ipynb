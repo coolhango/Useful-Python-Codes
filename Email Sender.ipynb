{
 "cells": [
  {
   "cell_type": "code",
   "execution_count": null,
   "id": "08244c58-d0e6-4861-84cb-856b272596f4",
   "metadata": {},
   "outputs": [],
   "source": [
    "# Last Updated: 14 April 2024, 8.08PM.\n",
    "# Copyright © 2024 Gedeon Koh All rights reserved.\n",
    "# No part of this publication may be reproduced, distributed, or transmitted in any form or by any means, including photocopying, recording, or other electronic or mechanical methods, without the prior written permission of the publisher, except in the case of brief quotations embodied in reviews and certain other non-commercial uses permitted by copyright law.\n",
    "# THE SOFTWARE IS PROVIDED “AS IS”, WITHOUT WARRANTY OF ANY KIND, EXPRESS OR IMPLIED, INCLUDING BUT NOT LIMITED TO THE WARRANTIES OF MERCHANTABILITY, FITNESS FOR A PARTICULAR PURPOSE AND NONINFRINGEMENT. IN NO EVENT SHALL THE AUTHOR OR COPYRIGHT HOLDER BE LIABLE FOR ANY CLAIM, DAMAGES OR OTHER LIABILITY, WHETHER IN AN ACTION OF CONTRACT, TORT OR OTHERWISE, ARISING FROM, OUT OF OR IN CONNECTION WITH THE SOFTWARE OR THE USE OR OTHER DEALINGS IN THE SOFTWARE.\n",
    "# Use of this program for pranks or any malicious activities is strictly prohibited. Any unauthorized use or dissemination of the results produced by this program is unethical and may result in legal consequences.\n",
    "# This code have been tested throughly. Please inform the operator or author if there is any mistake or error in the code.\n",
    "# Any damage, disciplinary actions or death from this material is not the publisher's or owner's fault.\n",
    "# Run and use this program this AT YOUR OWN RISK.\n",
    "# Version 0.1\n",
    "\n",
    "import smtplib\n",
    "from email.mime.text import MIMEText\n",
    "from string import Template\n",
    "\n",
    "class Sender(object):\n",
    "    def __init__(self, message=None, email=None, password=None):\n",
    "        self.__email = email\n",
    "        self.__password = password\n",
    "        self.__message = message\n",
    "\n",
    "    def __create_email(self, subject, recipient, message_details):\n",
    "        with open(self.__message, 'r') as message_txt:\n",
    "            message = Template(message_txt.read())\n",
    "            message = message.substitute(**message_details)\n",
    "            message = MIMEText(message)\n",
    "            message['Subject'] = subject\n",
    "            message['From'] = self.__email\n",
    "            message['To'] = recipient\n",
    "            return message\n",
    "\n",
    "    def send_mail(self, recipient, subject, message_details):\n",
    "        email_message = self.__create_email(subject, recipient, message_details)\n",
    "        server = smtplib.SMTP('localhost')\n",
    "        server.sendmail(self.__email, recipient, email_message.as_string())\n",
    "        server.quit()\n",
    "        "
   ]
  }
 ],
 "metadata": {
  "kernelspec": {
   "display_name": "Python 3 (ipykernel)",
   "language": "python",
   "name": "python3"
  },
  "language_info": {
   "codemirror_mode": {
    "name": "ipython",
    "version": 3
   },
   "file_extension": ".py",
   "mimetype": "text/x-python",
   "name": "python",
   "nbconvert_exporter": "python",
   "pygments_lexer": "ipython3",
   "version": "3.12.2"
  }
 },
 "nbformat": 4,
 "nbformat_minor": 5
}
