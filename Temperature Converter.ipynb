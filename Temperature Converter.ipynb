{
 "cells": [
  {
   "cell_type": "code",
   "execution_count": null,
   "id": "e98fd103-ef5e-40ad-a460-ce45eae411f2",
   "metadata": {},
   "outputs": [],
   "source": [
    "# Last Updated: 14 April 2024, 8.08PM.\n",
    "# Copyright © 2024 Gedeon Koh All rights reserved.\n",
    "# No part of this publication may be reproduced, distributed, or transmitted in any form or by any means, including photocopying, recording, or other electronic or mechanical methods, without the prior written permission of the publisher, except in the case of brief quotations embodied in reviews and certain other non-commercial uses permitted by copyright law.\n",
    "# THE SOFTWARE IS PROVIDED “AS IS”, WITHOUT WARRANTY OF ANY KIND, EXPRESS OR IMPLIED, INCLUDING BUT NOT LIMITED TO THE WARRANTIES OF MERCHANTABILITY, FITNESS FOR A PARTICULAR PURPOSE AND NONINFRINGEMENT. IN NO EVENT SHALL THE AUTHOR OR COPYRIGHT HOLDER BE LIABLE FOR ANY CLAIM, DAMAGES OR OTHER LIABILITY, WHETHER IN AN ACTION OF CONTRACT, TORT OR OTHERWISE, ARISING FROM, OUT OF OR IN CONNECTION WITH THE SOFTWARE OR THE USE OR OTHER DEALINGS IN THE SOFTWARE.\n",
    "# Use of this program for pranks or any malicious activities is strictly prohibited. Any unauthorized use or dissemination of the results produced by this program is unethical and may result in legal consequences.\n",
    "# This code have been tested throughly. Please inform the operator or author if there is any mistake or error in the code.\n",
    "# Any damage, disciplinary actions or death from this material is not the publisher's or owner's fault.\n",
    "# Run and use this program this AT YOUR OWN RISK.\n",
    "# Version 0.1\n",
    "\n",
    "def convert_fahrenheit_to_celsius(fahrenheit):\n",
    "    \"\"\"Convert a temperature from Fahrenheit to Celsius.\"\"\"\n",
    "    celsius = (fahrenheit - 32) * 5 / 9\n",
    "    return round(celsius, 2)\n",
    "\n",
    "def convert_celsius_to_fahrenheit(celsius):\n",
    "    \"\"\"Convert a temperature from Celsius to Fahrenheit.\"\"\"\n",
    "    fahrenheit = (celsius * 9 / 5) + 32\n",
    "    return round(fahrenheit, 2)\n",
    "\n",
    "def main():\n",
    "    \"\"\"Main function to run the temperature converter.\"\"\"\n",
    "    print(\"Temperature Converter\")\n",
    "    print(\"==================\")\n",
    "    print(\"\")\n",
    "    print(\"1. Fahrenheit to Celsius\")\n",
    "    print(\"2. Celsius to Fahrenheit\")\n",
    "    print(\"\")\n",
    "    print(\"0. Exit\")\n",
    "\n",
    "    while True:\n",
    "        choice = int(input(\"Enter your choice: \"))\n",
    "\n",
    "        if choice == 1:\n",
    "            fahrenheit = float(input(\"Enter the temperature in Fahrenheit: \"))\n",
    "            celsius = convert_fahrenheit_to_celsius(fahrenheit)\n",
    "            print(f\"{fahrenheit} Fahrenheit is equal to {celsius} Celsius.\")\n",
    "            print(\"\")\n",
    "        elif choice == 2:\n",
    "            celsius = float(input(\"Enter the temperature in Celsius: \"))\n",
    "            fahrenheit = convert_celsius_to_fahrenheit(celsius)\n",
    "            print(f\"{celsius} Celsius is equal to {fahrenheit} Fahrenheit.\")\n",
    "            print(\"\")\n",
    "        elif choice == 0:\n",
    "            print(\"Exiting Temperature Converter...\")\n",
    "            break\n",
    "        else:\n",
    "            print(\"Invalid choice. Please enter 0, 1, or 2.\")\n",
    "\n",
    "if __name__ == \"__main__\":\n",
    "    main()"
   ]
  }
 ],
 "metadata": {
  "kernelspec": {
   "display_name": "Python 3 (ipykernel)",
   "language": "python",
   "name": "python3"
  },
  "language_info": {
   "codemirror_mode": {
    "name": "ipython",
    "version": 3
   },
   "file_extension": ".py",
   "mimetype": "text/x-python",
   "name": "python",
   "nbconvert_exporter": "python",
   "pygments_lexer": "ipython3",
   "version": "3.12.2"
  }
 },
 "nbformat": 4,
 "nbformat_minor": 5
}
