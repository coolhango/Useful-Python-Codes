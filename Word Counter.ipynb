{
 "cells": [
  {
   "cell_type": "code",
   "execution_count": 1,
   "id": "636e01f7-9900-4ebb-9580-c696df0bd48c",
   "metadata": {},
   "outputs": [],
   "source": [
    "# Last Updated: 14 April 2024, 8.08PM.\n",
    "# Copyright © 2024 Gedeon Koh All rights reserved.\n",
    "# No part of this publication may be reproduced, distributed, or transmitted in any form or by any means, including photocopying, recording, or other electronic or mechanical methods, without the prior written permission of the publisher, except in the case of brief quotations embodied in reviews and certain other non-commercial uses permitted by copyright law.\n",
    "# THE SOFTWARE IS PROVIDED “AS IS”, WITHOUT WARRANTY OF ANY KIND, EXPRESS OR IMPLIED, INCLUDING BUT NOT LIMITED TO THE WARRANTIES OF MERCHANTABILITY, FITNESS FOR A PARTICULAR PURPOSE AND NONINFRINGEMENT. IN NO EVENT SHALL THE AUTHOR OR COPYRIGHT HOLDER BE LIABLE FOR ANY CLAIM, DAMAGES OR OTHER LIABILITY, WHETHER IN AN ACTION OF CONTRACT, TORT OR OTHERWISE, ARISING FROM, OUT OF OR IN CONNECTION WITH THE SOFTWARE OR THE USE OR OTHER DEALINGS IN THE SOFTWARE.\n",
    "# Use of this program for pranks or any malicious activities is strictly prohibited. Any unauthorized use or dissemination of the results produced by this program is unethical and may result in legal consequences.\n",
    "# This code have been tested throughly. Please inform the operator or author if there is any mistake or error in the code.\n",
    "# Any damage, disciplinary actions or death from this material is not the publisher's or owner's fault.\n",
    "# Run and use this program this AT YOUR OWN RISK.\n",
    "# Version 0.1\n",
    "\n",
    "def load_word_counts(filename):\n",
    "    counts = []\n",
    "    with open(filename, \"r\") as input_fd:\n",
    "        for line in input_fd:\n",
    "            if not line.startswith(\"#\"):\n",
    "                fields = line.split()\n",
    "                counts.append((fields[0], int(fields[1]), float(fields[2])))\n",
    "    return counts\n",
    "\n",
    "def top_n_word(counts, n):\n",
    "    \"\"\"\n",
    "    Given a list of (word, count, percentage) tuples,\n",
    "    return the top n word counts.\n",
    "    \"\"\"\n",
    "    limited_counts = counts[0:n]\n",
    "    count_data = [count for (_, count, _) in limited_counts]\n",
    "    return count_data\n",
    "\n",
    "def zipf_analysis(input_file, n=10):\n",
    "    counts = load_word_counts(input_file)\n",
    "    top_n = top_n_word(counts, n)\n",
    "    return top_n"
   ]
  }
 ],
 "metadata": {
  "kernelspec": {
   "display_name": "Python 3 (ipykernel)",
   "language": "python",
   "name": "python3"
  },
  "language_info": {
   "codemirror_mode": {
    "name": "ipython",
    "version": 3
   },
   "file_extension": ".py",
   "mimetype": "text/x-python",
   "name": "python",
   "nbconvert_exporter": "python",
   "pygments_lexer": "ipython3",
   "version": "3.12.2"
  }
 },
 "nbformat": 4,
 "nbformat_minor": 5
}
