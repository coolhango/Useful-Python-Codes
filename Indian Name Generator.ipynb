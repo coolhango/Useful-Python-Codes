{
 "cells": [
  {
   "cell_type": "code",
   "execution_count": 5,
   "id": "54809641-50f3-48cd-9dc3-c6a2f71ac397",
   "metadata": {},
   "outputs": [
    {
     "name": "stdout",
     "output_type": "stream",
     "text": [
      "Collecting indian_names\n",
      "  Downloading indian_names-0.3-py3-none-any.whl.metadata (2.3 kB)\n",
      "Downloading indian_names-0.3-py3-none-any.whl (12 kB)\n",
      "Installing collected packages: indian_names\n",
      "Successfully installed indian_names-0.3\n"
     ]
    }
   ],
   "source": [
    "# Last Updated: 14 April 2024, 8.08PM.\n",
    "# Copyright © 2024 Gedeon Koh All rights reserved.\n",
    "# No part of this publication may be reproduced, distributed, or transmitted in any form or by any means, including photocopying, recording, or other electronic or mechanical methods, without the prior written permission of the publisher, except in the case of brief quotations embodied in reviews and certain other non-commercial uses permitted by copyright law.\n",
    "# THE SOFTWARE IS PROVIDED “AS IS”, WITHOUT WARRANTY OF ANY KIND, EXPRESS OR IMPLIED, INCLUDING BUT NOT LIMITED TO THE WARRANTIES OF MERCHANTABILITY, FITNESS FOR A PARTICULAR PURPOSE AND NONINFRINGEMENT. IN NO EVENT SHALL THE AUTHOR OR COPYRIGHT HOLDER BE LIABLE FOR ANY CLAIM, DAMAGES OR OTHER LIABILITY, WHETHER IN AN ACTION OF CONTRACT, TORT OR OTHERWISE, ARISING FROM, OUT OF OR IN CONNECTION WITH THE SOFTWARE OR THE USE OR OTHER DEALINGS IN THE SOFTWARE.\n",
    "# Use of this program for pranks or any malicious activities is strictly prohibited. Any unauthorized use or dissemination of the results produced by this program is unethical and may result in legal consequences.\n",
    "# This code have been tested throughly. Please inform the operator or author if there is any mistake or error in the code.\n",
    "# Any damage, disciplinary actions or death from this material is not the publisher's or owner's fault.\n",
    "# Run and use this program this AT YOUR OWN RISK.\n",
    "# Version 0.1\n",
    "\n",
    "from tkinter import *\n",
    "import indian_names\n",
    "\n",
    "root = Tk()\n",
    "root.title(\"Random Name Generator\")\n",
    "root.geometry('500x500')\n",
    "\n",
    "#Creating labels\n",
    "l0 = Label(root, text = \"Random Name Generator\", font=(\"Arial\",20))\n",
    "l0.pack()\n",
    "l1 = Label(root, text = \"Enter the gender\", font=(\"Arial\", 16))\n",
    "l1.pack()\n",
    "input = StringVar()\n",
    "l2 = Entry(root, textvariable = input, font=(\"Arial\", 16))\n",
    "l2.pack()\n",
    "\n",
    "def getName():\n",
    "    l3['text'] = \" \"\n",
    "    gender = input.get().lower()\n",
    "    if gender == \"male\" : \n",
    "        l3['text'] = indian_names.get_full_name(gender='male')\n",
    "    elif gender == 'female':\n",
    "        l3['text'] = indian_names.get_full_name(gender='female')\n",
    "    else :\n",
    "        l3['text'] = indian_names.get_full_name(gender='female')\n",
    "\n",
    "button = Button(root, text = \"Get Name\", command = getName, bg = \"#50e3a4\", fg = 'black', font=(\"Arial\", 10))\n",
    "button.pack()\n",
    "l3 = Label(root, text = \"\", font=(\"Arial\",16))\n",
    "l3.pack()\n",
    "\n",
    "root.mainloop()"
   ]
  }
 ],
 "metadata": {
  "kernelspec": {
   "display_name": "Python 3 (ipykernel)",
   "language": "python",
   "name": "python3"
  },
  "language_info": {
   "codemirror_mode": {
    "name": "ipython",
    "version": 3
   },
   "file_extension": ".py",
   "mimetype": "text/x-python",
   "name": "python",
   "nbconvert_exporter": "python",
   "pygments_lexer": "ipython3",
   "version": "3.12.2"
  }
 },
 "nbformat": 4,
 "nbformat_minor": 5
}
