{
 "cells": [
  {
   "cell_type": "code",
   "execution_count": null,
   "id": "e7c71b29-4b98-43ae-a13e-a88659a8e8f8",
   "metadata": {},
   "outputs": [],
   "source": [
    "# Last Updated: 14 April 2024, 8.08PM.\n",
    "# Copyright © 2024 Gedeon Koh All rights reserved.\n",
    "# No part of this publication may be reproduced, distributed, or transmitted in any form or by any means, including photocopying, recording, or other electronic or mechanical methods, without the prior written permission of the publisher, except in the case of brief quotations embodied in reviews and certain other non-commercial uses permitted by copyright law.\n",
    "# THE SOFTWARE IS PROVIDED “AS IS”, WITHOUT WARRANTY OF ANY KIND, EXPRESS OR IMPLIED, INCLUDING BUT NOT LIMITED TO THE WARRANTIES OF MERCHANTABILITY, FITNESS FOR A PARTICULAR PURPOSE AND NONINFRINGEMENT. IN NO EVENT SHALL THE AUTHOR OR COPYRIGHT HOLDER BE LIABLE FOR ANY CLAIM, DAMAGES OR OTHER LIABILITY, WHETHER IN AN ACTION OF CONTRACT, TORT OR OTHERWISE, ARISING FROM, OUT OF OR IN CONNECTION WITH THE SOFTWARE OR THE USE OR OTHER DEALINGS IN THE SOFTWARE.\n",
    "# Use of this program for pranks or any malicious activities is strictly prohibited. Any unauthorized use or dissemination of the results produced by this program is unethical and may result in legal consequences.\n",
    "# This code have been tested throughly. Please inform the operator or author if there is any mistake or error in the code.\n",
    "# Any damage, disciplinary actions or death from this material is not the publisher's or owner's fault.\n",
    "# Run and use this program this AT YOUR OWN RISK.\n",
    "# Version 0.1\n",
    "\n",
    "import tkinter as tk\n",
    "import webbrowser\n",
    "\n",
    "def search():\n",
    "  query = entry.get()\n",
    "  webbrowser.open(f\"https://www.google.com/search?q={query}\")\n",
    "\n",
    "root = tk.Tk()\n",
    "root.title(\"Google Search\")\n",
    "root.geometry('500x500')\n",
    "\n",
    "heading_label = tk.Label(root, text=\"Google Search Automation\", font=\"poppins 20 bold\")\n",
    "heading_label.pack()\n",
    "entry = tk.Entry(root, font=\"poppins 16\")\n",
    "entry.pack()\n",
    "\n",
    "button = tk.Button(root, text=\"Search\", command=search)\n",
    "button.pack()\n",
    "\n",
    "root.mainloop()"
   ]
  }
 ],
 "metadata": {
  "kernelspec": {
   "display_name": "Python 3 (ipykernel)",
   "language": "python",
   "name": "python3"
  },
  "language_info": {
   "codemirror_mode": {
    "name": "ipython",
    "version": 3
   },
   "file_extension": ".py",
   "mimetype": "text/x-python",
   "name": "python",
   "nbconvert_exporter": "python",
   "pygments_lexer": "ipython3",
   "version": "3.12.2"
  }
 },
 "nbformat": 4,
 "nbformat_minor": 5
}
