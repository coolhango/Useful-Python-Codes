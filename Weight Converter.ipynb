{
 "cells": [
  {
   "cell_type": "code",
   "execution_count": 3,
   "id": "66de826e-9c54-4fca-af22-1979ed20240f",
   "metadata": {},
   "outputs": [],
   "source": [
    "# Last Updated: 14 April 2024, 8.08PM.\n",
    "# Copyright © 2024 Gedeon Koh All rights reserved.\n",
    "# No part of this publication may be reproduced, distributed, or transmitted in any form or by any means, including photocopying, recording, or other electronic or mechanical methods, without the prior written permission of the publisher, except in the case of brief quotations embodied in reviews and certain other non-commercial uses permitted by copyright law.\n",
    "# THE SOFTWARE IS PROVIDED “AS IS”, WITHOUT WARRANTY OF ANY KIND, EXPRESS OR IMPLIED, INCLUDING BUT NOT LIMITED TO THE WARRANTIES OF MERCHANTABILITY, FITNESS FOR A PARTICULAR PURPOSE AND NONINFRINGEMENT. IN NO EVENT SHALL THE AUTHOR OR COPYRIGHT HOLDER BE LIABLE FOR ANY CLAIM, DAMAGES OR OTHER LIABILITY, WHETHER IN AN ACTION OF CONTRACT, TORT OR OTHERWISE, ARISING FROM, OUT OF OR IN CONNECTION WITH THE SOFTWARE OR THE USE OR OTHER DEALINGS IN THE SOFTWARE.\n",
    "# Use of this program for pranks or any malicious activities is strictly prohibited. Any unauthorized use or dissemination of the results produced by this program is unethical and may result in legal consequences.\n",
    "# This code have been tested throughly. Please inform the operator or author if there is any mistake or error in the code.\n",
    "# Any damage, disciplinary actions or death from this material is not the publisher's or owner's fault.\n",
    "# Run and use this program this AT YOUR OWN RISK.\n",
    "# Version 0.1\n",
    "\n",
    "from tkinter import *\n",
    "\n",
    "root = Tk()\n",
    "root.title('Weight Converter')\n",
    "\n",
    "l1 = Label(root, text = \"Enter the weight in Kg\", font=(\"Arial\", 18))\n",
    "input = StringVar()\n",
    "l2 = Entry(root, textvariable = input, font=(\"Arial\", 18))\n",
    "l3 = Label(root, text = \"Gram\", font=(\"Arial\", 18))\n",
    "l4 = Label(root, text = \"Pounds\", font=(\"Arial\", 18))\n",
    "l5 = Label(root, text = \"Ounce\", font=(\"Arial\", 18))\n",
    "t1_gram = Text(root, height = 1, width = 20,font=(\"Arial\", 18))\n",
    "t2_pounds = Text(root, height = 1, width = 20, font=(\"Arial\", 18))\n",
    "t3_ounce = Text(root, height = 1, width = 20, font=(\"Arial\", 18))\n",
    "\n",
    "def convert():\n",
    "    gram = float(input.get())*1000\n",
    "    pound = float(input.get())*2.20462\n",
    "    ounce = float(input.get())*35.274\n",
    "    t1_gram.delete(\"1.0\", END)\n",
    "    t1_gram.insert(END,gram)\n",
    "     \n",
    "    t2_pounds.delete(\"1.0\", END)\n",
    "    t2_pounds.insert(END,pound)\n",
    "     \n",
    "    t3_ounce.delete(\"1.0\", END)\n",
    "    t3_ounce.insert(END,ounce)\n",
    "\n",
    "\n",
    "button = Button(root, text = \"Convert\", command = convert, bg = \"#50e3a4\", fg = 'white', font=(\"Arial\", 18))\n",
    "\n",
    "l1.grid(row = 0, column = 0)\n",
    "l2.grid(row=0, column=1)\n",
    "l3.grid(row=2, column=0)\n",
    "l4.grid(row=2, column=1)\n",
    "l5.grid(row=2, column=2)\n",
    "t1_gram.grid(row=3, column=0)\n",
    "t2_pounds.grid(row=3, column=1)\n",
    "t3_ounce.grid(row=3, column=2)\n",
    "button.grid(row=1, column = 1)\n",
    "\n",
    "root.mainloop()"
   ]
  }
 ],
 "metadata": {
  "kernelspec": {
   "display_name": "Python 3 (ipykernel)",
   "language": "python",
   "name": "python3"
  },
  "language_info": {
   "codemirror_mode": {
    "name": "ipython",
    "version": 3
   },
   "file_extension": ".py",
   "mimetype": "text/x-python",
   "name": "python",
   "nbconvert_exporter": "python",
   "pygments_lexer": "ipython3",
   "version": "3.12.2"
  }
 },
 "nbformat": 4,
 "nbformat_minor": 5
}
