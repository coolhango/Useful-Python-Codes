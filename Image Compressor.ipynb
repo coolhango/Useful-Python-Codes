{
 "cells": [
  {
   "cell_type": "code",
   "execution_count": 1,
   "id": "14c22ea2-acd2-4122-84f3-d413cd957ccf",
   "metadata": {},
   "outputs": [
    {
     "name": "stderr",
     "output_type": "stream",
     "text": [
      "<>:10: SyntaxWarning: invalid escape sequence '\\D'\n",
      "<>:10: SyntaxWarning: invalid escape sequence '\\D'\n",
      "/var/folders/8k/g_gsfwcx48lbl0hm34wbldch0000gn/T/ipykernel_13568/2292539001.py:10: SyntaxWarning: invalid escape sequence '\\D'\n",
      "  filename = filedialog.askopenfilename(title=\"Select Image\",initialdir='C:\\Downloads',filetypes=[(\"PNG\",\"*.png\"),(\"JPG\",\"*.jpg\"),(\"JPEG\",\"*.jpeg\"),(\"ICON\",\"*.ico\")])\n"
     ]
    },
    {
     "name": "stdout",
     "output_type": "stream",
     "text": [
      "user file name : fuck\n"
     ]
    },
    {
     "name": "stderr",
     "output_type": "stream",
     "text": [
      "Exception in Tkinter callback\n",
      "Traceback (most recent call last):\n",
      "  File \"/Users/gedeonkoh/Library/jupyterlab-desktop/jlab_server/lib/python3.12/site-packages/PIL/JpegImagePlugin.py\", line 650, in _save\n",
      "    rawmode = RAWMODE[im.mode]\n",
      "              ~~~~~~~^^^^^^^^^\n",
      "KeyError: 'RGBA'\n",
      "\n",
      "The above exception was the direct cause of the following exception:\n",
      "\n",
      "Traceback (most recent call last):\n",
      "  File \"/Users/gedeonkoh/Library/jupyterlab-desktop/jlab_server/lib/python3.12/tkinter/__init__.py\", line 1967, in __call__\n",
      "    return self.func(*args)\n",
      "           ^^^^^^^^^^^^^^^^\n",
      "  File \"/var/folders/8k/g_gsfwcx48lbl0hm34wbldch0000gn/T/ipykernel_13568/2292539001.py\", line 23, in openImage\n",
      "    picture.save(\"Compressed_\"+userfilename+'.jpeg',\n",
      "  File \"/Users/gedeonkoh/Library/jupyterlab-desktop/jlab_server/lib/python3.12/site-packages/PIL/Image.py\", line 2439, in save\n",
      "    save_handler(self, fp, filename)\n",
      "  File \"/Users/gedeonkoh/Library/jupyterlab-desktop/jlab_server/lib/python3.12/site-packages/PIL/JpegImagePlugin.py\", line 653, in _save\n",
      "    raise OSError(msg) from e\n",
      "OSError: cannot write mode RGBA as JPEG\n"
     ]
    }
   ],
   "source": [
    "# Last Updated: 14 April 2024, 8.08PM.\n",
    "# Copyright © 2024 Gedeon Koh All rights reserved.\n",
    "# No part of this publication may be reproduced, distributed, or transmitted in any form or by any means, including photocopying, recording, or other electronic or mechanical methods, without the prior written permission of the publisher, except in the case of brief quotations embodied in reviews and certain other non-commercial uses permitted by copyright law.\n",
    "# THE SOFTWARE IS PROVIDED “AS IS”, WITHOUT WARRANTY OF ANY KIND, EXPRESS OR IMPLIED, INCLUDING BUT NOT LIMITED TO THE WARRANTIES OF MERCHANTABILITY, FITNESS FOR A PARTICULAR PURPOSE AND NONINFRINGEMENT. IN NO EVENT SHALL THE AUTHOR OR COPYRIGHT HOLDER BE LIABLE FOR ANY CLAIM, DAMAGES OR OTHER LIABILITY, WHETHER IN AN ACTION OF CONTRACT, TORT OR OTHERWISE, ARISING FROM, OUT OF OR IN CONNECTION WITH THE SOFTWARE OR THE USE OR OTHER DEALINGS IN THE SOFTWARE.\n",
    "# Use of this program for pranks or any malicious activities is strictly prohibited. Any unauthorized use or dissemination of the results produced by this program is unethical and may result in legal consequences.\n",
    "# This code have been tested throughly. Please inform the operator or author if there is any mistake or error in the code.\n",
    "# Any damage, disciplinary actions or death from this material is not the publisher's or owner's fault.\n",
    "# Run and use this program this AT YOUR OWN RISK.\n",
    "# Version 0.1\n",
    "\n",
    "import os\n",
    "import tkinter\n",
    "import pytesseract  \n",
    "from tkinter import filedialog\n",
    "from PIL import Image \n",
    "\n",
    "def openImage():\n",
    "    # opening image\n",
    "    filename = filedialog.askopenfilename(title=\"Select Image\",initialdir='C:\\Downloads',filetypes=[(\"PNG\",\"*.png\"),(\"JPG\",\"*.jpg\"),(\"JPEG\",\"*.jpeg\"),(\"ICON\",\"*.ico\")])\n",
    "    file_label.configure(text=filename)\n",
    "    output_text.delete(\"1.0\", tkinter.END)\n",
    "    userfilename = filedialog.asksaveasfilename()\n",
    "    userfilename = os.path.basename('/root/'+userfilename)\n",
    "    print(\"user file name :\",userfilename)\n",
    "    picture = Image.open(filename)\n",
    "\n",
    "    #Change Quality as Needed\n",
    "    picture.save(\"Compressed_\"+userfilename+'.jpeg',\n",
    "\t\t\t\t\"JPEG\",\n",
    "\t\t\t\toptimize = True,\n",
    "\t\t\t\tquality = 10)\n",
    "    output_text.insert(tkinter.END, \"Image compression finished\")\n",
    "\n",
    "root = tkinter.Tk()\n",
    "root.title(\"Image Compressor\")\n",
    "\n",
    "file_label = tkinter.Label(root,text=\"No image selected\")\n",
    "file_label.pack()\n",
    "output_text = tkinter.Text(root)\n",
    "output_text.pack()\n",
    "open_file_btn = tkinter.Button(root, text=\"Select Image\", command= openImage)\n",
    "open_file_btn.pack()\n",
    "\n",
    "root.mainloop()"
   ]
  }
 ],
 "metadata": {
  "kernelspec": {
   "display_name": "Python 3 (ipykernel)",
   "language": "python",
   "name": "python3"
  },
  "language_info": {
   "codemirror_mode": {
    "name": "ipython",
    "version": 3
   },
   "file_extension": ".py",
   "mimetype": "text/x-python",
   "name": "python",
   "nbconvert_exporter": "python",
   "pygments_lexer": "ipython3",
   "version": "3.12.2"
  }
 },
 "nbformat": 4,
 "nbformat_minor": 5
}
