{
 "cells": [
  {
   "cell_type": "code",
   "execution_count": 4,
   "id": "5a2c047b-f35f-4bde-a321-b86a28dd195b",
   "metadata": {},
   "outputs": [
    {
     "name": "stdout",
     "output_type": "stream",
     "text": [
      "Requirement already satisfied: img2pdf in /Users/gedeonkoh/Library/jupyterlab-desktop/jlab_server/lib/python3.12/site-packages (0.5.1)\n",
      "Requirement already satisfied: Pillow in /Users/gedeonkoh/Library/jupyterlab-desktop/jlab_server/lib/python3.12/site-packages (from img2pdf) (10.2.0)\n",
      "Requirement already satisfied: pikepdf in /Users/gedeonkoh/Library/jupyterlab-desktop/jlab_server/lib/python3.12/site-packages (from img2pdf) (8.15.0)\n",
      "Requirement already satisfied: Deprecated in /Users/gedeonkoh/Library/jupyterlab-desktop/jlab_server/lib/python3.12/site-packages (from pikepdf->img2pdf) (1.2.14)\n",
      "Requirement already satisfied: lxml>=4.8 in /Users/gedeonkoh/Library/jupyterlab-desktop/jlab_server/lib/python3.12/site-packages (from pikepdf->img2pdf) (5.2.1)\n",
      "Requirement already satisfied: packaging in /Users/gedeonkoh/Library/jupyterlab-desktop/jlab_server/lib/python3.12/site-packages (from pikepdf->img2pdf) (23.2)\n",
      "Requirement already satisfied: wrapt<2,>=1.10 in /Users/gedeonkoh/Library/jupyterlab-desktop/jlab_server/lib/python3.12/site-packages (from Deprecated->pikepdf->img2pdf) (1.16.0)\n"
     ]
    }
   ],
   "source": [
    "# Last Updated: 14 April 2024, 8.08PM.\n",
    "# Copyright © 2024 Gedeon Koh All rights reserved.\n",
    "# No part of this publication may be reproduced, distributed, or transmitted in any form or by any means, including photocopying, recording, or other electronic or mechanical methods, without the prior written permission of the publisher, except in the case of brief quotations embodied in reviews and certain other non-commercial uses permitted by copyright law.\n",
    "# THE SOFTWARE IS PROVIDED “AS IS”, WITHOUT WARRANTY OF ANY KIND, EXPRESS OR IMPLIED, INCLUDING BUT NOT LIMITED TO THE WARRANTIES OF MERCHANTABILITY, FITNESS FOR A PARTICULAR PURPOSE AND NONINFRINGEMENT. IN NO EVENT SHALL THE AUTHOR OR COPYRIGHT HOLDER BE LIABLE FOR ANY CLAIM, DAMAGES OR OTHER LIABILITY, WHETHER IN AN ACTION OF CONTRACT, TORT OR OTHERWISE, ARISING FROM, OUT OF OR IN CONNECTION WITH THE SOFTWARE OR THE USE OR OTHER DEALINGS IN THE SOFTWARE.\n",
    "# Use of this program for pranks or any malicious activities is strictly prohibited. Any unauthorized use or dissemination of the results produced by this program is unethical and may result in legal consequences.\n",
    "# This code have been tested throughly. Please inform the operator or author if there is any mistake or error in the code.\n",
    "# Any damage, disciplinary actions or death from this material is not the publisher's or owner's fault.\n",
    "# Run and use this program this AT YOUR OWN RISK.\n",
    "# Version 0.1\n",
    "\n",
    "from tkinter import *\n",
    "from tkinter.filedialog import askopenfilenames\n",
    "import img2pdf\n",
    "from PIL import Image\n",
    "\n",
    "root = Tk() \n",
    "root.geometry('400x200')\n",
    "  \n",
    "def select_file():\n",
    "    global file_names\n",
    "    file_names = askopenfilenames(initialdir = \"/\",\n",
    "                                  title = \"Select File\")\n",
    "  \n",
    "\n",
    "def image_to_pdf():\n",
    "    for index, file_name in enumerate(file_names):\n",
    "        with open(f\"file {index}.pdf\", \"wb\") as f:\n",
    "            image = Image.open(file_name)\n",
    "            pdf_bytes = img2pdf.convert(image.filename)\n",
    "            f.write(img2pdf.convert(image.filename))\n",
    "            image.close()\n",
    "            f.close()\n",
    "            print('Converted')\n",
    "  \n",
    "  \n",
    "\n",
    "Label(root, text = \"IMG TO PDF\",\n",
    "      font = \"italic 15 bold\").pack(pady = 10)\n",
    "  \n",
    "Button(root, text = \"Select Image\",\n",
    "       command = select_file, font = 14).pack(pady = 10)\n",
    "  \n",
    "frame = Frame()\n",
    "frame.pack(pady = 20)\n",
    "  \n",
    "Button(frame, text = \"Image to PDF\",\n",
    "       command = image_to_pdf,\n",
    "       relief = \"solid\",\n",
    "       bg = \"white\", font = 15).pack(side = LEFT, padx = 10)\n",
    "  \n",
    "  \n",
    "# Execute Tkinter\n",
    "root.mainloop()"
   ]
  }
 ],
 "metadata": {
  "kernelspec": {
   "display_name": "Python 3 (ipykernel)",
   "language": "python",
   "name": "python3"
  },
  "language_info": {
   "codemirror_mode": {
    "name": "ipython",
    "version": 3
   },
   "file_extension": ".py",
   "mimetype": "text/x-python",
   "name": "python",
   "nbconvert_exporter": "python",
   "pygments_lexer": "ipython3",
   "version": "3.12.2"
  }
 },
 "nbformat": 4,
 "nbformat_minor": 5
}
