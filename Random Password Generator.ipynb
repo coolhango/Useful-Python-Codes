{
 "cells": [
  {
   "cell_type": "code",
   "execution_count": null,
   "id": "7c67e4d6-2625-4542-8828-b68281686829",
   "metadata": {},
   "outputs": [
    {
     "name": "stdin",
     "output_type": "stream",
     "text": [
      "Length of password:  100\n"
     ]
    },
    {
     "name": "stdout",
     "output_type": "stream",
     "text": [
      "your password: I}1VXa**j6E82suTkYtM4YM%}d$34A84ztWAGZo5}FvRMpI!xS7SOgrbUuDpc}EWmlBbE6h}P{rnVVoWaM@an*DFlL!0zUBVHJ}G\n"
     ]
    }
   ],
   "source": [
    "import random\n",
    "\n",
    "chars = \"abcdefghijklmnopqrstuvwxyzABCDEFGHIJKLMNOPQRSTUVWXYZ0123456789$!@*&%^({}\"\n",
    "\n",
    "while True:\n",
    "    password_length = int(input(\"Length of password: \"))\n",
    "    password = \"\"\n",
    "    for x in range(password_length):\n",
    "        password_char = random.choice(chars)\n",
    "        password += password_char\n",
    "    print(f\"your password: {password}\")"
   ]
  }
 ],
 "metadata": {
  "kernelspec": {
   "display_name": "Python 3 (ipykernel)",
   "language": "python",
   "name": "python3"
  },
  "language_info": {
   "codemirror_mode": {
    "name": "ipython",
    "version": 3
   },
   "file_extension": ".py",
   "mimetype": "text/x-python",
   "name": "python",
   "nbconvert_exporter": "python",
   "pygments_lexer": "ipython3",
   "version": "3.12.2"
  }
 },
 "nbformat": 4,
 "nbformat_minor": 5
}
